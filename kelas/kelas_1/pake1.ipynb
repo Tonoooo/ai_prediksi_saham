{
 "cells": [
  {
   "cell_type": "markdown",
   "metadata": {},
   "source": [
    "# Program untuk menggunakan model kelas 1"
   ]
  },
  {
   "cell_type": "markdown",
   "metadata": {},
   "source": [
    "# Memprediksi bebrapa hari kedepan"
   ]
  },
  {
   "cell_type": "code",
   "execution_count": 13,
   "metadata": {},
   "outputs": [],
   "source": [
    "import pandas_datareader as pdr\n",
    "import pandas as pd\n",
    "from fungsi import persen, datanya, pake_k1\n",
    "from keras.models import load_model"
   ]
  },
  {
   "cell_type": "code",
   "execution_count": 10,
   "metadata": {},
   "outputs": [],
   "source": [
    "prediction_days = 80 # timestep\n",
    "ticker = [\"AALI\"]\n",
    "mulai_iptpred = '2021-01-01' # tanggal mulai input model untuk memprediksi\n",
    "akhir_iptpred = '2022-03-04' # tanggal akhir input model untuk memprediksi"
   ]
  },
  {
   "cell_type": "code",
   "execution_count": 11,
   "metadata": {},
   "outputs": [],
   "source": [
    "# siapkan datafrmae untuk tempat hasil prediksi model\n",
    "hasil_model = pd.DataFrame(columns=['Saham','Perubahan nilai','Keadaan','0/1','Perubahan(%)'])\n",
    "# loop untuk model prediksi dan memasukkan hasilnya ke dataframe\n",
    "for tic in ticker:\n",
    "    makanannya = pd.read_csv(f'../data/psaham/{tic}.csv') # ambil datanya\n",
    "    model = load_model(f\"model/{tic}_model.h5\") # muat modelnya\n",
    "    hasil_pred = datanya.predik_5h(makanannya, prediction_days, model) # model memprediksi\n",
    "    # proses output modelnya\n",
    "    kenaikan = hasil_pred[4][0] - hasil_pred[0][0]\n",
    "    persentase, akan = persen.kenaikan_persen(hasil_pred[0][0], hasil_pred[4][0])\n",
    "    hasil_model = pd.concat([hasil_model, pd.DataFrame.from_records([{\n",
    "        'Saham': tic, 'Perubahan nilai' : kenaikan, 'Keadaan': akan[1],\n",
    "        '0/1':akan[0],'Perubahan(%)' : persentase}])])"
   ]
  },
  {
   "cell_type": "code",
   "execution_count": 12,
   "metadata": {},
   "outputs": [
    {
     "data": {
      "text/html": [
       "<div>\n",
       "<style scoped>\n",
       "    .dataframe tbody tr th:only-of-type {\n",
       "        vertical-align: middle;\n",
       "    }\n",
       "\n",
       "    .dataframe tbody tr th {\n",
       "        vertical-align: top;\n",
       "    }\n",
       "\n",
       "    .dataframe thead th {\n",
       "        text-align: right;\n",
       "    }\n",
       "</style>\n",
       "<table border=\"1\" class=\"dataframe\">\n",
       "  <thead>\n",
       "    <tr style=\"text-align: right;\">\n",
       "      <th></th>\n",
       "      <th>Saham</th>\n",
       "      <th>Perubahan nilai</th>\n",
       "      <th>Keadaan</th>\n",
       "      <th>0/1</th>\n",
       "      <th>Perubahan(%)</th>\n",
       "    </tr>\n",
       "  </thead>\n",
       "  <tbody>\n",
       "    <tr>\n",
       "      <th>0</th>\n",
       "      <td>AALI</td>\n",
       "      <td>-17.425232</td>\n",
       "      <td>Turun</td>\n",
       "      <td>0</td>\n",
       "      <td>-0.149568</td>\n",
       "    </tr>\n",
       "  </tbody>\n",
       "</table>\n",
       "</div>"
      ],
      "text/plain": [
       "  Saham Perubahan nilai Keadaan 0/1 Perubahan(%)\n",
       "0  AALI      -17.425232   Turun   0    -0.149568"
      ]
     },
     "execution_count": 12,
     "metadata": {},
     "output_type": "execute_result"
    }
   ],
   "source": [
    "# mengurutkan sesuai kolom Perubahan(%), dari nilai terbesar ke terkecil\n",
    "hasil_model.sort_values(by='Perubahan(%)',ascending=False, inplace=True) \n",
    "hasil_model.reset_index(inplace=True, drop=True) # mereset index\n",
    "hasil_model.to_csv('hasil_kelas_1.csv',index=False)\n",
    "hasil_model"
   ]
  },
  {
   "cell_type": "code",
   "execution_count": null,
   "metadata": {},
   "outputs": [],
   "source": []
  }
 ],
 "metadata": {
  "interpreter": {
   "hash": "f9551a8e2b990190d99fcb846a51b8338c257f2e49af6e193510ec206fb361bb"
  },
  "kernelspec": {
   "display_name": "Python 3.10.0 ('Pencipta': venv)",
   "language": "python",
   "name": "python3"
  },
  "language_info": {
   "codemirror_mode": {
    "name": "ipython",
    "version": 3
   },
   "file_extension": ".py",
   "mimetype": "text/x-python",
   "name": "python",
   "nbconvert_exporter": "python",
   "pygments_lexer": "ipython3",
   "version": "3.10.0"
  },
  "orig_nbformat": 4
 },
 "nbformat": 4,
 "nbformat_minor": 2
}
