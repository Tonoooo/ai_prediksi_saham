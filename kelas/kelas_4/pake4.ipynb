{
 "cells": [
  {
   "cell_type": "markdown",
   "metadata": {},
   "source": [
    "# Program untuk menggunakan model kelas 4"
   ]
  },
  {
   "cell_type": "markdown",
   "metadata": {},
   "source": [
    "# Memprediksi bebrapa hari kedepan"
   ]
  },
  {
   "cell_type": "code",
   "execution_count": 1,
   "metadata": {},
   "outputs": [],
   "source": [
    "import pandas_datareader as pdr\n",
    "import pandas as pd\n",
    "from fungsi import persen, datanya\n",
    "from keras.models import load_model"
   ]
  },
  {
   "cell_type": "code",
   "execution_count": 2,
   "metadata": {},
   "outputs": [],
   "source": [
    "window_size = 20 # timestep\n",
    "ticker = [\"CBMF\",\"MPPA\",\"KONI\",\"SGER\",\"SMMT\",\"PANR\",\"SMRA\",\"MARK\",\"MBSS\",\"FMII\",\n",
    "          \"TOTL\",\"URBN\",\"KDSI\",\"ESIP\",\"MEGA\",\"TOBA\",\"PBSA\",\"ASMI\",\"GPRA\",\"SILO\"]\n",
    "mulai_iptpred = '2021-01-01' # tanggal mulai input model untuk memprediksi\n",
    "akhir_iptpred = '2022-03-04' # tanggal akhir input model untuk memprediksi\n",
    "\n",
    "hasil_model = pd.DataFrame(columns=['Saham','Perubahan nilai','Keadaan','0/1','Perubahan(%)'])"
   ]
  },
  {
   "cell_type": "code",
   "execution_count": 3,
   "metadata": {},
   "outputs": [],
   "source": [
    "for tic in ticker:\n",
    "    makanannya = pdr.DataReader(f'{tic}.JK', data_source='yahoo', start=mulai_iptpred, end=akhir_iptpred)\n",
    "    model = load_model(f\"model/{tic}_model.h5\")\n",
    "    hasil_pred = datanya.predik5h_4(makanannya, window_size, model)\n",
    "    kenaikan = hasil_pred[4][0] - hasil_pred[0][0]\n",
    "    persentase, akan = persen.kenaikan_persen(hasil_pred[0][0], hasil_pred[4][0])\n",
    "    hasil_model = pd.concat([hasil_model, pd.DataFrame.from_records([{\n",
    "        'Saham': tic, 'Perubahan nilai' : kenaikan, 'Keadaan': akan[1],\n",
    "        '0/1':akan[0],'Perubahan(%)' : persentase}])])"
   ]
  },
  {
   "cell_type": "code",
   "execution_count": 4,
   "metadata": {},
   "outputs": [
    {
     "data": {
      "text/html": [
       "<div>\n",
       "<style scoped>\n",
       "    .dataframe tbody tr th:only-of-type {\n",
       "        vertical-align: middle;\n",
       "    }\n",
       "\n",
       "    .dataframe tbody tr th {\n",
       "        vertical-align: top;\n",
       "    }\n",
       "\n",
       "    .dataframe thead th {\n",
       "        text-align: right;\n",
       "    }\n",
       "</style>\n",
       "<table border=\"1\" class=\"dataframe\">\n",
       "  <thead>\n",
       "    <tr style=\"text-align: right;\">\n",
       "      <th></th>\n",
       "      <th>Saham</th>\n",
       "      <th>Perubahan nilai</th>\n",
       "      <th>Keadaan</th>\n",
       "      <th>0/1</th>\n",
       "      <th>Perubahan(%)</th>\n",
       "    </tr>\n",
       "  </thead>\n",
       "  <tbody>\n",
       "    <tr>\n",
       "      <th>0</th>\n",
       "      <td>PANI</td>\n",
       "      <td>7.389121</td>\n",
       "      <td>Naik</td>\n",
       "      <td>1</td>\n",
       "      <td>0.440799</td>\n",
       "    </tr>\n",
       "    <tr>\n",
       "      <th>1</th>\n",
       "      <td>SUPR</td>\n",
       "      <td>118.520433</td>\n",
       "      <td>Naik</td>\n",
       "      <td>1</td>\n",
       "      <td>0.428337</td>\n",
       "    </tr>\n",
       "    <tr>\n",
       "      <th>2</th>\n",
       "      <td>INCO</td>\n",
       "      <td>1.120705</td>\n",
       "      <td>Naik</td>\n",
       "      <td>1</td>\n",
       "      <td>0.023657</td>\n",
       "    </tr>\n",
       "    <tr>\n",
       "      <th>3</th>\n",
       "      <td>CAMP</td>\n",
       "      <td>-0.031369</td>\n",
       "      <td>Turun</td>\n",
       "      <td>0</td>\n",
       "      <td>-0.011255</td>\n",
       "    </tr>\n",
       "    <tr>\n",
       "      <th>4</th>\n",
       "      <td>BJTM</td>\n",
       "      <td>-0.737717</td>\n",
       "      <td>Turun</td>\n",
       "      <td>0</td>\n",
       "      <td>-0.098115</td>\n",
       "    </tr>\n",
       "    <tr>\n",
       "      <th>5</th>\n",
       "      <td>MSKY</td>\n",
       "      <td>-0.67512</td>\n",
       "      <td>Turun</td>\n",
       "      <td>0</td>\n",
       "      <td>-0.210469</td>\n",
       "    </tr>\n",
       "    <tr>\n",
       "      <th>6</th>\n",
       "      <td>MEDC</td>\n",
       "      <td>-2.572868</td>\n",
       "      <td>Turun</td>\n",
       "      <td>0</td>\n",
       "      <td>-0.488872</td>\n",
       "    </tr>\n",
       "    <tr>\n",
       "      <th>7</th>\n",
       "      <td>BPFI</td>\n",
       "      <td>-10.824016</td>\n",
       "      <td>Turun</td>\n",
       "      <td>0</td>\n",
       "      <td>-1.380918</td>\n",
       "    </tr>\n",
       "    <tr>\n",
       "      <th>8</th>\n",
       "      <td>BPTR</td>\n",
       "      <td>-5.281288</td>\n",
       "      <td>Turun</td>\n",
       "      <td>0</td>\n",
       "      <td>-2.312655</td>\n",
       "    </tr>\n",
       "    <tr>\n",
       "      <th>9</th>\n",
       "      <td>FORU</td>\n",
       "      <td>-24.412886</td>\n",
       "      <td>Turun</td>\n",
       "      <td>0</td>\n",
       "      <td>-11.696783</td>\n",
       "    </tr>\n",
       "  </tbody>\n",
       "</table>\n",
       "</div>"
      ],
      "text/plain": [
       "  Saham Perubahan nilai Keadaan 0/1 Perubahan(%)\n",
       "0  PANI        7.389121    Naik   1     0.440799\n",
       "1  SUPR      118.520433    Naik   1     0.428337\n",
       "2  INCO        1.120705    Naik   1     0.023657\n",
       "3  CAMP       -0.031369   Turun   0    -0.011255\n",
       "4  BJTM       -0.737717   Turun   0    -0.098115\n",
       "5  MSKY        -0.67512   Turun   0    -0.210469\n",
       "6  MEDC       -2.572868   Turun   0    -0.488872\n",
       "7  BPFI      -10.824016   Turun   0    -1.380918\n",
       "8  BPTR       -5.281288   Turun   0    -2.312655\n",
       "9  FORU      -24.412886   Turun   0   -11.696783"
      ]
     },
     "execution_count": 4,
     "metadata": {},
     "output_type": "execute_result"
    }
   ],
   "source": [
    "# mengurutkan sesuai kolom Perubahan(%), dari nilai terbesar ke terkecil\n",
    "hasil_model.sort_values(by='Perubahan(%)',ascending=False, inplace=True) \n",
    "hasil_model.reset_index(inplace=True, drop=True) # mereset index\n",
    "hasil_model.to_csv('hasil_kelas_4.csv', index=False)\n",
    "hasil_model"
   ]
  }
 ],
 "metadata": {
  "interpreter": {
   "hash": "f9551a8e2b990190d99fcb846a51b8338c257f2e49af6e193510ec206fb361bb"
  },
  "kernelspec": {
   "display_name": "Python 3.10.0 ('Pencipta': venv)",
   "language": "python",
   "name": "python3"
  },
  "language_info": {
   "codemirror_mode": {
    "name": "ipython",
    "version": 3
   },
   "file_extension": ".py",
   "mimetype": "text/x-python",
   "name": "python",
   "nbconvert_exporter": "python",
   "pygments_lexer": "ipython3",
   "version": "3.10.0"
  },
  "orig_nbformat": 4
 },
 "nbformat": 4,
 "nbformat_minor": 2
}
