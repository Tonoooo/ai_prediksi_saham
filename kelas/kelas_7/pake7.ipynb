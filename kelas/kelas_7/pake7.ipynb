{
 "cells": [
  {
   "cell_type": "markdown",
   "metadata": {},
   "source": [
    "# Program untuk menggunakan model kelas 7"
   ]
  },
  {
   "cell_type": "markdown",
   "metadata": {},
   "source": [
    "# Memprediksi bebrapa hari kedepan"
   ]
  },
  {
   "cell_type": "code",
   "execution_count": 23,
   "metadata": {},
   "outputs": [],
   "source": [
    "import pandas_datareader as pdr\n",
    "import pandas as pd\n",
    "from fungsi import persen, datanya\n",
    "from keras.models import load_model"
   ]
  },
  {
   "cell_type": "code",
   "execution_count": 24,
   "metadata": {},
   "outputs": [],
   "source": [
    "prediction_days = 80 # timestep\n",
    "ticker = [\"CBMF\",\"MPPA\",\"KONI\",\"SGER\",\"SMMT\",\"PANR\",\"SMRA\",\"MARK\",\"MBSS\",\"FMII\",\n",
    "          \"TOTL\",\"URBN\",\"KDSI\",\"ESIP\",\"MEGA\",\"TOBA\",\"PBSA\",\"ASMI\",\"GPRA\",\"SILO\"]\n",
    "mulai_iptpred = '2021-01-01' # tanggal mulai input model untuk memprediksi\n",
    "akhir_iptpred = '2022-03-04' # tanggal akhir input model untuk memprediksi\n",
    "\n",
    "hasil_model = pd.DataFrame(columns=['Saham','Perubahan nilai','Keadaan','0/1','Perubahan(%)'])"
   ]
  },
  {
   "cell_type": "code",
   "execution_count": null,
   "metadata": {},
   "outputs": [],
   "source": [
    "for tic in ticker:\n",
    "    makanannya = pdr.DataReader(f'{tic}.JK', data_source='yahoo', start=mulai_iptpred, end=akhir_iptpred)\n",
    "    model = load_model(f\"model/{tic}_model.h5\")\n",
    "    hasil_pred = datanya.predik_5h(makanannya, prediction_days, model)\n",
    "    kenaikan = hasil_pred[4][0] - hasil_pred[0][0]\n",
    "    persentase, akan = persen.kenaikan_persen(hasil_pred[0][0], hasil_pred[4][0])\n",
    "    hasil_model = pd.concat([hasil_model, pd.DataFrame.from_records([{\n",
    "        'Saham': tic, 'Perubahan nilai' : kenaikan, 'Keadaan': akan[1],\n",
    "        '0/1':akan[0],'Perubahan(%)' : persentase}])])"
   ]
  },
  {
   "cell_type": "code",
   "execution_count": null,
   "metadata": {},
   "outputs": [],
   "source": [
    "# mengurutkan sesuai kolom Perubahan(%), dari nilai terbesar ke terkecil\n",
    "hasil_model.sort_values(by='Perubahan(%)',ascending=False, inplace=True) \n",
    "hasil_model.reset_index(inplace=True, drop=True) # mereset index\n",
    "hasil_model.to_csv('hasil_kelas_7.csv')\n",
    "hasil_model"
   ]
  }
 ],
 "metadata": {
  "interpreter": {
   "hash": "f9551a8e2b990190d99fcb846a51b8338c257f2e49af6e193510ec206fb361bb"
  },
  "kernelspec": {
   "display_name": "Python 3.10.0 ('Pencipta': venv)",
   "language": "python",
   "name": "python3"
  },
  "language_info": {
   "codemirror_mode": {
    "name": "ipython",
    "version": 3
   },
   "file_extension": ".py",
   "mimetype": "text/x-python",
   "name": "python",
   "nbconvert_exporter": "python",
   "pygments_lexer": "ipython3",
   "version": "3.10.0"
  },
  "orig_nbformat": 4
 },
 "nbformat": 4,
 "nbformat_minor": 2
}
