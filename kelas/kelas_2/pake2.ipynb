{
 "cells": [
  {
   "cell_type": "markdown",
   "metadata": {},
   "source": [
    "# Program untuk menggunakan model kelas 2"
   ]
  },
  {
   "cell_type": "markdown",
   "metadata": {},
   "source": [
    "# Memprediksi bebrapa hari kedepan"
   ]
  },
  {
   "cell_type": "code",
   "execution_count": 1,
   "metadata": {},
   "outputs": [],
   "source": [
    "import pandas_datareader as pdr\n",
    "import pandas as pd\n",
    "from fungsi import persen, datanya\n",
    "from keras.models import load_model"
   ]
  },
  {
   "cell_type": "code",
   "execution_count": 2,
   "metadata": {},
   "outputs": [],
   "source": [
    "prediction_days = 80 # timestep\n",
    "ticker = [\"CBMF\",\"MPPA\",\"KONI\",\"SGER\",\"SMMT\",\"PANR\",\"SMRA\",\"MARK\",\"MBSS\",\"FMII\",\n",
    "          \"TOTL\",\"URBN\",\"KDSI\",\"ESIP\",\"MEGA\",\"TOBA\",\"PBSA\",\"ASMI\",\"GPRA\",\"SILO\"]\n",
    "mulai_iptpred = '2021-01-01' # tanggal mulai input model untuk memprediksi\n",
    "akhir_iptpred = '2022-03-04' # tanggal akhir input model untuk memprediksi\n",
    "\n",
    "hasil_model = pd.DataFrame(columns=['Saham','Perubahan nilai','Keadaan','0/1','Perubahan(%)'])"
   ]
  },
  {
   "cell_type": "code",
   "execution_count": 3,
   "metadata": {},
   "outputs": [],
   "source": [
    "for tic in ticker:\n",
    "    makanannya = pdr.DataReader(f'{tic}.JK', data_source='yahoo', start=mulai_iptpred, end=akhir_iptpred)\n",
    "    model = load_model(f\"model/{tic}_model.h5\")\n",
    "    hasil_pred = datanya.predik_5h(makanannya, prediction_days, model)\n",
    "    kenaikan = hasil_pred[4][0] - hasil_pred[0][0]\n",
    "    persentase, akan = persen.kenaikan_persen(hasil_pred[0][0], hasil_pred[4][0])\n",
    "    hasil_model = pd.concat([hasil_model, pd.DataFrame.from_records([{\n",
    "        'Saham': tic, 'Perubahan nilai' : kenaikan, 'Keadaan': akan[1],\n",
    "        '0/1':akan[0],'Perubahan(%)' : persentase}])])"
   ]
  },
  {
   "cell_type": "code",
   "execution_count": 4,
   "metadata": {},
   "outputs": [
    {
     "data": {
      "text/html": [
       "<div>\n",
       "<style scoped>\n",
       "    .dataframe tbody tr th:only-of-type {\n",
       "        vertical-align: middle;\n",
       "    }\n",
       "\n",
       "    .dataframe tbody tr th {\n",
       "        vertical-align: top;\n",
       "    }\n",
       "\n",
       "    .dataframe thead th {\n",
       "        text-align: right;\n",
       "    }\n",
       "</style>\n",
       "<table border=\"1\" class=\"dataframe\">\n",
       "  <thead>\n",
       "    <tr style=\"text-align: right;\">\n",
       "      <th></th>\n",
       "      <th>Saham</th>\n",
       "      <th>Perubahan nilai</th>\n",
       "      <th>Keadaan</th>\n",
       "      <th>0/1</th>\n",
       "      <th>Perubahan(%)</th>\n",
       "    </tr>\n",
       "  </thead>\n",
       "  <tbody>\n",
       "    <tr>\n",
       "      <th>0</th>\n",
       "      <td>SUPR</td>\n",
       "      <td>688.061975</td>\n",
       "      <td>Naik</td>\n",
       "      <td>1</td>\n",
       "      <td>2.735441</td>\n",
       "    </tr>\n",
       "    <tr>\n",
       "      <th>1</th>\n",
       "      <td>FORU</td>\n",
       "      <td>4.074335</td>\n",
       "      <td>Naik</td>\n",
       "      <td>1</td>\n",
       "      <td>2.636952</td>\n",
       "    </tr>\n",
       "    <tr>\n",
       "      <th>2</th>\n",
       "      <td>MEDC</td>\n",
       "      <td>12.205844</td>\n",
       "      <td>Naik</td>\n",
       "      <td>1</td>\n",
       "      <td>2.362756</td>\n",
       "    </tr>\n",
       "    <tr>\n",
       "      <th>3</th>\n",
       "      <td>BPTR</td>\n",
       "      <td>0.744334</td>\n",
       "      <td>Naik</td>\n",
       "      <td>1</td>\n",
       "      <td>0.324212</td>\n",
       "    </tr>\n",
       "    <tr>\n",
       "      <th>4</th>\n",
       "      <td>PANI</td>\n",
       "      <td>0.192445</td>\n",
       "      <td>Naik</td>\n",
       "      <td>1</td>\n",
       "      <td>0.017265</td>\n",
       "    </tr>\n",
       "    <tr>\n",
       "      <th>5</th>\n",
       "      <td>BJTM</td>\n",
       "      <td>0.07859</td>\n",
       "      <td>Naik</td>\n",
       "      <td>1</td>\n",
       "      <td>0.010432</td>\n",
       "    </tr>\n",
       "    <tr>\n",
       "      <th>6</th>\n",
       "      <td>CAMP</td>\n",
       "      <td>0.000767</td>\n",
       "      <td>Naik</td>\n",
       "      <td>1</td>\n",
       "      <td>0.000267</td>\n",
       "    </tr>\n",
       "    <tr>\n",
       "      <th>7</th>\n",
       "      <td>INCO</td>\n",
       "      <td>-7.671602</td>\n",
       "      <td>Turun</td>\n",
       "      <td>0</td>\n",
       "      <td>-0.175283</td>\n",
       "    </tr>\n",
       "    <tr>\n",
       "      <th>8</th>\n",
       "      <td>MSKY</td>\n",
       "      <td>-1.576175</td>\n",
       "      <td>Turun</td>\n",
       "      <td>0</td>\n",
       "      <td>-0.401835</td>\n",
       "    </tr>\n",
       "    <tr>\n",
       "      <th>9</th>\n",
       "      <td>BPFI</td>\n",
       "      <td>-27.463617</td>\n",
       "      <td>Turun</td>\n",
       "      <td>0</td>\n",
       "      <td>-3.790708</td>\n",
       "    </tr>\n",
       "  </tbody>\n",
       "</table>\n",
       "</div>"
      ],
      "text/plain": [
       "  Saham Perubahan nilai Keadaan 0/1 Perubahan(%)\n",
       "0  SUPR      688.061975    Naik   1     2.735441\n",
       "1  FORU        4.074335    Naik   1     2.636952\n",
       "2  MEDC       12.205844    Naik   1     2.362756\n",
       "3  BPTR        0.744334    Naik   1     0.324212\n",
       "4  PANI        0.192445    Naik   1     0.017265\n",
       "5  BJTM         0.07859    Naik   1     0.010432\n",
       "6  CAMP        0.000767    Naik   1     0.000267\n",
       "7  INCO       -7.671602   Turun   0    -0.175283\n",
       "8  MSKY       -1.576175   Turun   0    -0.401835\n",
       "9  BPFI      -27.463617   Turun   0    -3.790708"
      ]
     },
     "execution_count": 4,
     "metadata": {},
     "output_type": "execute_result"
    }
   ],
   "source": [
    "# mengurutkan sesuai kolom Perubahan(%), dari nilai terbesar ke terkecil\n",
    "hasil_model.sort_values(by='Perubahan(%)',ascending=False, inplace=True) \n",
    "hasil_model.reset_index(inplace=True, drop=True) # mereset index\n",
    "hasil_model.to_csv('hasil_kelas_2.csv')\n",
    "hasil_model"
   ]
  }
 ],
 "metadata": {
  "kernelspec": {
   "display_name": "Python 3.10.0 64-bit",
   "language": "python",
   "name": "python3"
  },
  "language_info": {
   "codemirror_mode": {
    "name": "ipython",
    "version": 3
   },
   "file_extension": ".py",
   "mimetype": "text/x-python",
   "name": "python",
   "nbconvert_exporter": "python",
   "pygments_lexer": "ipython3",
   "version": "3.10.0"
  },
  "orig_nbformat": 4,
  "vscode": {
   "interpreter": {
    "hash": "15ad0cc17b1beb018dfde9a09b7de37472277b3df38ed01c5d141bc3ff473416"
   }
  }
 },
 "nbformat": 4,
 "nbformat_minor": 2
}
