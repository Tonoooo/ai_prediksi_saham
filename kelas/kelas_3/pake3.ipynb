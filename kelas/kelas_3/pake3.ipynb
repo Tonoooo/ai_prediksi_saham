{
 "cells": [
  {
   "cell_type": "markdown",
   "metadata": {},
   "source": [
    "# Program untuk menggunakan model kelas 3"
   ]
  },
  {
   "cell_type": "markdown",
   "metadata": {},
   "source": [
    "# Memprediksi bebrapa hari kedepan"
   ]
  },
  {
   "cell_type": "code",
   "execution_count": 1,
   "metadata": {},
   "outputs": [],
   "source": [
    "import pandas_datareader as pdr\n",
    "import pandas as pd\n",
    "from fungsi import persen, datanya\n",
    "from keras.models import load_model"
   ]
  },
  {
   "cell_type": "code",
   "execution_count": 2,
   "metadata": {},
   "outputs": [],
   "source": [
    "prediction_days = 80 # timestep\n",
    "ticker = [\"CBMF\",\"MPPA\",\"KONI\",\"SGER\",\"SMMT\",\"PANR\",\"SMRA\",\"MARK\",\"MBSS\",\"FMII\",\n",
    "          \"TOTL\",\"URBN\",\"KDSI\",\"ESIP\",\"MEGA\",\"TOBA\",\"PBSA\",\"ASMI\",\"GPRA\",\"SILO\"]\n",
    "mulai_iptpred = '2021-01-01' # tanggal mulai input model untuk memprediksi\n",
    "akhir_iptpred = '2022-03-04' # tanggal akhir input model untuk memprediksi\n",
    "\n",
    "hasil_model = pd.DataFrame(columns=['Saham','Perubahan nilai','Keadaan','0/1','Perubahan(%)'])"
   ]
  },
  {
   "cell_type": "code",
   "execution_count": 3,
   "metadata": {},
   "outputs": [],
   "source": [
    "for tic in ticker:\n",
    "    makanannya = pdr.DataReader(f'{tic}.JK', data_source='yahoo', start=mulai_iptpred, end=akhir_iptpred)\n",
    "    model = load_model(f\"model/{tic}_model.h5\")\n",
    "    hasil_pred = datanya.predik_5h(makanannya, prediction_days, model)\n",
    "    kenaikan = hasil_pred[4][0] - hasil_pred[0][0]\n",
    "    persentase, akan = persen.kenaikan_persen(hasil_pred[0][0], hasil_pred[4][0])\n",
    "    hasil_model = pd.concat([hasil_model, pd.DataFrame.from_records([{\n",
    "        'Saham': tic, 'Perubahan nilai' : kenaikan, 'Keadaan': akan[1],\n",
    "        '0/1':akan[0],'Perubahan(%)' : persentase}])])"
   ]
  },
  {
   "cell_type": "code",
   "execution_count": 4,
   "metadata": {},
   "outputs": [
    {
     "data": {
      "text/html": [
       "<div>\n",
       "<style scoped>\n",
       "    .dataframe tbody tr th:only-of-type {\n",
       "        vertical-align: middle;\n",
       "    }\n",
       "\n",
       "    .dataframe tbody tr th {\n",
       "        vertical-align: top;\n",
       "    }\n",
       "\n",
       "    .dataframe thead th {\n",
       "        text-align: right;\n",
       "    }\n",
       "</style>\n",
       "<table border=\"1\" class=\"dataframe\">\n",
       "  <thead>\n",
       "    <tr style=\"text-align: right;\">\n",
       "      <th></th>\n",
       "      <th>Saham</th>\n",
       "      <th>Perubahan nilai</th>\n",
       "      <th>Keadaan</th>\n",
       "      <th>0/1</th>\n",
       "      <th>Perubahan(%)</th>\n",
       "    </tr>\n",
       "  </thead>\n",
       "  <tbody>\n",
       "    <tr>\n",
       "      <th>0</th>\n",
       "      <td>SUPR</td>\n",
       "      <td>10658.407763</td>\n",
       "      <td>Naik</td>\n",
       "      <td>1</td>\n",
       "      <td>36.533162</td>\n",
       "    </tr>\n",
       "    <tr>\n",
       "      <th>1</th>\n",
       "      <td>FORU</td>\n",
       "      <td>9.935333</td>\n",
       "      <td>Naik</td>\n",
       "      <td>1</td>\n",
       "      <td>4.469967</td>\n",
       "    </tr>\n",
       "    <tr>\n",
       "      <th>2</th>\n",
       "      <td>MEDC</td>\n",
       "      <td>11.172574</td>\n",
       "      <td>Naik</td>\n",
       "      <td>1</td>\n",
       "      <td>2.199747</td>\n",
       "    </tr>\n",
       "    <tr>\n",
       "      <th>3</th>\n",
       "      <td>INCO</td>\n",
       "      <td>12.776364</td>\n",
       "      <td>Naik</td>\n",
       "      <td>1</td>\n",
       "      <td>0.269838</td>\n",
       "    </tr>\n",
       "    <tr>\n",
       "      <th>4</th>\n",
       "      <td>MSKY</td>\n",
       "      <td>0.260299</td>\n",
       "      <td>Naik</td>\n",
       "      <td>1</td>\n",
       "      <td>0.083884</td>\n",
       "    </tr>\n",
       "    <tr>\n",
       "      <th>5</th>\n",
       "      <td>BJTM</td>\n",
       "      <td>0.231295</td>\n",
       "      <td>Naik</td>\n",
       "      <td>1</td>\n",
       "      <td>0.030396</td>\n",
       "    </tr>\n",
       "    <tr>\n",
       "      <th>6</th>\n",
       "      <td>CAMP</td>\n",
       "      <td>0.034248</td>\n",
       "      <td>Naik</td>\n",
       "      <td>1</td>\n",
       "      <td>0.012537</td>\n",
       "    </tr>\n",
       "    <tr>\n",
       "      <th>7</th>\n",
       "      <td>BPTR</td>\n",
       "      <td>-0.066698</td>\n",
       "      <td>Turun</td>\n",
       "      <td>0</td>\n",
       "      <td>-0.021148</td>\n",
       "    </tr>\n",
       "    <tr>\n",
       "      <th>8</th>\n",
       "      <td>PANI</td>\n",
       "      <td>-0.322284</td>\n",
       "      <td>Turun</td>\n",
       "      <td>0</td>\n",
       "      <td>-0.032223</td>\n",
       "    </tr>\n",
       "    <tr>\n",
       "      <th>9</th>\n",
       "      <td>BPFI</td>\n",
       "      <td>-1.961807</td>\n",
       "      <td>Turun</td>\n",
       "      <td>0</td>\n",
       "      <td>-0.256654</td>\n",
       "    </tr>\n",
       "  </tbody>\n",
       "</table>\n",
       "</div>"
      ],
      "text/plain": [
       "  Saham Perubahan nilai Keadaan 0/1 Perubahan(%)\n",
       "0  SUPR    10658.407763    Naik   1    36.533162\n",
       "1  FORU        9.935333    Naik   1     4.469967\n",
       "2  MEDC       11.172574    Naik   1     2.199747\n",
       "3  INCO       12.776364    Naik   1     0.269838\n",
       "4  MSKY        0.260299    Naik   1     0.083884\n",
       "5  BJTM        0.231295    Naik   1     0.030396\n",
       "6  CAMP        0.034248    Naik   1     0.012537\n",
       "7  BPTR       -0.066698   Turun   0    -0.021148\n",
       "8  PANI       -0.322284   Turun   0    -0.032223\n",
       "9  BPFI       -1.961807   Turun   0    -0.256654"
      ]
     },
     "execution_count": 4,
     "metadata": {},
     "output_type": "execute_result"
    }
   ],
   "source": [
    "# mengurutkan sesuai kolom Perubahan(%), dari nilai terbesar ke terkecil\n",
    "hasil_model.sort_values(by='Perubahan(%)',ascending=False, inplace=True) \n",
    "hasil_model.reset_index(inplace=True, drop=True) # mereset index\n",
    "hasil_model.to_csv('hasil_kelas_3.csv')\n",
    "hasil_model"
   ]
  }
 ],
 "metadata": {
  "interpreter": {
   "hash": "f9551a8e2b990190d99fcb846a51b8338c257f2e49af6e193510ec206fb361bb"
  },
  "kernelspec": {
   "display_name": "Python 3.10.0 ('Pencipta': venv)",
   "language": "python",
   "name": "python3"
  },
  "language_info": {
   "codemirror_mode": {
    "name": "ipython",
    "version": 3
   },
   "file_extension": ".py",
   "mimetype": "text/x-python",
   "name": "python",
   "nbconvert_exporter": "python",
   "pygments_lexer": "ipython3",
   "version": "3.10.0"
  },
  "orig_nbformat": 4
 },
 "nbformat": 4,
 "nbformat_minor": 2
}
