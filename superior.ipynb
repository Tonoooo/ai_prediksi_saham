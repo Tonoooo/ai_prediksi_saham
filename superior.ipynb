{
 "cells": [
  {
   "cell_type": "markdown",
   "metadata": {},
   "source": [
    "# Program Superior\n",
    "Program ini akan merekomendasikan SAHAM yang beberapa hari kedepan insya allah akan NAIK.\n",
    "\n",
    "> PROGRAM INI MERUPAKAN HASIL AKHIR (PROGRAM INILAH UNTUK MEMPREDIKSI SAHAM). Program ini merupakan gabungan dari program kendali yang terbaik yaitu main dan main2. Para model/A.I buatan 15-03-2022 ~ 04-05-2022"
   ]
  },
  {
   "cell_type": "markdown",
   "metadata": {},
   "source": [
    "# 1. isilah data ini (optional)"
   ]
  },
  {
   "cell_type": "code",
   "execution_count": 1,
   "metadata": {},
   "outputs": [],
   "source": [
    "# mengambil tanggal hari ini\n",
    "from datetime import date\n",
    "today = date.today() #metode untuk mendapatkan tanggal lokal saat ini.\n",
    "\n",
    "#* hapus komentar ## jika ingin menggunakan kode dibawah ini\n",
    "# # tanggal mulai input model memprediksi\n",
    "# mulai_ipred = '2021-05-01'\n",
    "# # tanggal akhir input model memprediksi\n",
    "# akhir_ipred = today.strftime(\"%Y-%m-%d\") #metode strftime() untuk membuat string yang mewakili tanggal dalam format yang berbeda.\n",
    "\n",
    "# berapa hari kedepan kita ingin memprediksi??\n",
    "h_predik = 3 # hari\n",
    "\n",
    "# email. nanti hasilnya data dikirim ke email\n",
    "login_email = 'xxx@gmail.com' # email untuk masuk ke akun\n",
    "login_pass_txt = 'data/password.txt' # masukkan file txt yang berisipassword email untuk masuk ke akun\n",
    "email_pengirim = 'xxx@gmail.com' # email pengirim\n",
    "# siapa saja yang akan menerima emailnya??\n",
    "list_penerima_email = ['xxx@gmail.com']#jika nambah email harus pake spasi sesudah koma\n",
    "\n",
    "#* hapus komentar ## jika ingin menggunakan kode dibawah ini\n",
    "# bisi mau memprediksi kapanpun itu\n",
    "mulai_ipred = '2021-05-01'\n",
    "akhir_ipred = '2022-06-10               '"
   ]
  },
  {
   "cell_type": "markdown",
   "metadata": {},
   "source": [
    "# 2. mendapatkan data untuk input ai"
   ]
  },
  {
   "cell_type": "code",
   "execution_count": 2,
   "metadata": {},
   "outputs": [
    {
     "name": "stdout",
     "output_type": "stream",
     "text": [
      "makanan ai selesai\n"
     ]
    }
   ],
   "source": [
    "# ~~~~~  file yang berisi ticker jadikan sebuah list\n",
    "from fungsi import makanan\n",
    "file_ticker_txt = 'data/ticker_jii70.txt'\n",
    "with open(file_ticker_txt) as file:\n",
    "    ticker = file.readlines()\n",
    "    list_ticker = [line.rstrip() for line in ticker]\n",
    "\n",
    "# ~~~~~ mengambil dan menyimpan data saham untuk input model memprediksi\n",
    "makanan.psaham(mulai_ipred,akhir_ipred,list_ticker)\n",
    "print(\"makanan ai selesai\")"
   ]
  },
  {
   "cell_type": "markdown",
   "metadata": {},
   "source": [
    "# 3. saatnya para AI melakukan tugasnya\n"
   ]
  },
  {
   "cell_type": "code",
   "execution_count": null,
   "metadata": {},
   "outputs": [],
   "source": [
    "# ini menghasilkan dataframe yang berisi saham yang naik\n",
    "from fungsi import pake_kk\n",
    "hasil_k1 = pake_kk.pake_k1(list_ticker,h_predik)# kelas 1\n",
    "hasil_k2 = pake_kk.pake_k2(list_ticker,h_predik)# kelas 2\n",
    "hasil_k3 = pake_kk.pake_k3(list_ticker,h_predik)# kelas 3\n",
    "hasil_k4 = pake_kk.pake_k4(list_ticker,h_predik)# kelas 4\n",
    "hasil_k5 = pake_kk.pake_k5(list_ticker,h_predik)# kelas 5\n",
    "hasil_k6 = pake_kk.pake_k6(list_ticker,h_predik)# kelas 6\n",
    "hasil_k7 = pake_kk.pake_k7(list_ticker,h_predik)# kelas 7\n",
    "hasil_k8 = pake_kk.pake_k8(list_ticker,h_predik)# kelas 8\n",
    "hasil_k9 = pake_kk.pake_k9(list_ticker,h_predik)# kelas 9\n",
    "hasil_k10 = pake_kk.pake_k10(list_ticker,h_predik)# kelas 10\n",
    "hasil_k11 = pake_kk.pake_k11(list_ticker,h_predik)# kelas 11\n",
    "hasil_k12 = pake_kk.pake_k12(list_ticker,h_predik)# kelas 12\n",
    "hasil_k13 = pake_kk.pake_k13(list_ticker,h_predik)# kelas 13\n",
    "hasil_k14 = pake_kk.pake_k14(list_ticker,h_predik)# kelas 14\n",
    "hasil_k15 = pake_kk.pake_k15(list_ticker,h_predik)# kelas 15\n",
    "hasil_k16 = pake_kk.pake_k16(list_ticker,h_predik)# kelas 16\n",
    "hasil_k17 = pake_kk.pake_k17(list_ticker,h_predik)# kelas 17\n",
    "hasil_k18 = pake_kk.pake_k18(list_ticker,h_predik)# kelas 18\n",
    "hasil_k19 = pake_kk.pake_k19(list_ticker,h_predik)# kelas 19\n",
    "hasil_k20 = pake_kk.pake_k20(list_ticker,h_predik)# kelas 20\n",
    "hasil_k21 = pake_kk.pake_k21(list_ticker,h_predik)# kelas 21"
   ]
  },
  {
   "cell_type": "markdown",
   "metadata": {},
   "source": [
    "# 4. mendapatkan voting peringkat 10 teratas dari 50 besar dan para kelas kembali melakukan tugasnya\n",
    "\n",
    ">> (Ini bagian yang diambil dari program main)"
   ]
  },
  {
   "cell_type": "code",
   "execution_count": 4,
   "metadata": {},
   "outputs": [
    {
     "name": "stdout",
     "output_type": "stream",
     "text": [
      "Kelas 1 selesai\n",
      "Kelas 2 selesai\n",
      "Kelas 3 selesai\n",
      "Kelas 4 selesai\n",
      "Kelas 5 selesai\n",
      "Kelas 6 selesai\n",
      "Kelas 7 selesai\n",
      "Kelas 8 selesai\n",
      "Kelas 9 selesai\n",
      "Kelas 10 selesai\n",
      "Kelas 11 selesai\n",
      "Kelas 12 selesai\n",
      "Kelas 13 selesai\n",
      "Kelas 14 selesai\n",
      "Kelas 15 selesai\n",
      "Kelas 16 selesai\n",
      "Kelas 17 selesai\n",
      "Kelas 18 selesai\n",
      "Kelas 19 selesai\n",
      "Kelas 20 selesai\n",
      "Kelas 21 selesai\n"
     ]
    }
   ],
   "source": [
    "# mendapatkan voting peringkat 10 besar\n",
    "from fungsi import vote\n",
    "df_peringkat_50besar, list_50b = vote.peringkat_50(\n",
    "                hasil_k1,hasil_k2,hasil_k3,hasil_k4,hasil_k5,\n",
    "                hasil_k6,hasil_k7,hasil_k8,hasil_k9,hasil_k10,\n",
    "                hasil_k11,hasil_k12,hasil_k13,hasil_k14,hasil_k15,\n",
    "                hasil_k16,hasil_k17,hasil_k18,hasil_k19,hasil_k20,hasil_k21)\n",
    "list_50b = list_50b[:10]\n",
    "\n",
    "# para kelas kembali melakukan tugasnya kepada list_50b\n",
    "hasil50b_k1 = pake_kk.pake_k1(list_50b,h_predik)\n",
    "hasil50b_k2 = pake_kk.pake_k2(list_50b,h_predik)\n",
    "hasil50b_k3 = pake_kk.pake_k3(list_50b,h_predik)\n",
    "hasil50b_k4 = pake_kk.pake_k4(list_50b,h_predik)\n",
    "hasil50b_k5 = pake_kk.pake_k5(list_50b,h_predik)\n",
    "hasil50b_k6 = pake_kk.pake_k6(list_50b,h_predik)\n",
    "hasil50b_k7 = pake_kk.pake_k7(list_50b,h_predik)\n",
    "hasil50b_k8 = pake_kk.pake_k8(list_50b,h_predik)# kelas 8\n",
    "hasil50b_k9 = pake_kk.pake_k9(list_50b,h_predik)# kelas 9\n",
    "hasil50b_k10 = pake_kk.pake_k10(list_50b,h_predik)# kelas 10\n",
    "hasil50b_k11 = pake_kk.pake_k11(list_50b,h_predik)# kelas 11\n",
    "hasil50b_k12 = pake_kk.pake_k12(list_50b,h_predik)# kelas 12\n",
    "hasil50b_k13 = pake_kk.pake_k13(list_50b,h_predik)# kelas 13\n",
    "hasil50b_k14 = pake_kk.pake_k14(list_50b,h_predik)# kelas 14\n",
    "hasil50b_k15 = pake_kk.pake_k15(list_50b,h_predik)# kelas 15\n",
    "hasil50b_k16 = pake_kk.pake_k16(list_50b,h_predik)# kelas 16\n",
    "hasil50b_k17 = pake_kk.pake_k17(list_50b,h_predik)# kelas 17\n",
    "hasil50b_k18 = pake_kk.pake_k18(list_50b,h_predik)# kelas 18\n",
    "hasil50b_k19 = pake_kk.pake_k19(list_50b,h_predik)# kelas 19\n",
    "hasil50b_k20 = pake_kk.pake_k20(list_50b,h_predik)# kelas 20\n",
    "hasil50b_k21 = pake_kk.pake_k21(list_50b,h_predik)# kelas 21"
   ]
  },
  {
   "cell_type": "code",
   "execution_count": 5,
   "metadata": {},
   "outputs": [],
   "source": [
    "# (Ini bagian yang diambil dari program main)\n",
    "#mengambil voting peringkat 5, dan 10 besar\n",
    "m1peringkat_5besar, m1peringkat_10besar = vote.peringkat_10dan5(hasil50b_k1,hasil50b_k2,hasil50b_k3,hasil50b_k4,\n",
    "                                                            hasil50b_k5,hasil50b_k6,hasil50b_k7,hasil50b_k8,\n",
    "                                                            hasil50b_k9,hasil50b_k10,hasil50b_k11,\n",
    "                                                            hasil50b_k12,hasil50b_k13,hasil50b_k14,\n",
    "                                                            hasil50b_k15,hasil50b_k16,hasil50b_k17,\n",
    "                                                            hasil50b_k18,hasil50b_k19,hasil50b_k20\n",
    "                                                            ,hasil50b_k21)"
   ]
  },
  {
   "cell_type": "markdown",
   "metadata": {},
   "source": [
    "# 5. mendapatkan voting peringkat 10 teratas dari 10 besar, dan para kelas kembali melakukan tugasnya\n",
    "\n",
    ">> (Ini bagian yang diambil dari program main2)"
   ]
  },
  {
   "cell_type": "code",
   "execution_count": 6,
   "metadata": {},
   "outputs": [
    {
     "name": "stdout",
     "output_type": "stream",
     "text": [
      "Kelas 1 selesai\n",
      "Kelas 2 selesai\n",
      "Kelas 3 selesai\n",
      "Kelas 4 selesai\n",
      "Kelas 5 selesai\n",
      "Kelas 6 selesai\n",
      "Kelas 7 selesai\n",
      "Kelas 8 selesai\n",
      "Kelas 9 selesai\n",
      "Kelas 10 selesai\n",
      "Kelas 11 selesai\n",
      "Kelas 12 selesai\n",
      "Kelas 13 selesai\n",
      "Kelas 14 selesai\n",
      "Kelas 15 selesai\n",
      "Kelas 16 selesai\n",
      "Kelas 17 selesai\n",
      "Kelas 18 selesai\n",
      "Kelas 19 selesai\n",
      "Kelas 20 selesai\n",
      "Kelas 21 selesai\n"
     ]
    }
   ],
   "source": [
    "# mendapatkan voting peringkat 10 besar\n",
    "from fungsi import vote2\n",
    "df_peringkat_10besar, list_10b = vote2.peringkat_10(\n",
    "                hasil_k1,hasil_k2,hasil_k3,hasil_k4,hasil_k5,\n",
    "                hasil_k6,hasil_k7,hasil_k8,hasil_k9,hasil_k10,\n",
    "                hasil_k11,hasil_k12,hasil_k13,hasil_k14,hasil_k15,\n",
    "                hasil_k16,hasil_k17,hasil_k18,hasil_k19,hasil_k20,hasil_k21)\n",
    "list_10b = list_10b[:10] # list yang berisi 10 ticker saham yang paling banyak votenya\n",
    "\n",
    "# para kelas kembali melakukan tugasnya kepada list_10b\n",
    "hasil10b_k1 = pake_kk.pake_k1(list_10b,h_predik)# kelas 1\n",
    "hasil10b_k2 = pake_kk.pake_k2(list_10b,h_predik)# kelas 2\n",
    "hasil10b_k3 = pake_kk.pake_k3(list_10b,h_predik)# kelas 3\n",
    "hasil10b_k4 = pake_kk.pake_k4(list_10b,h_predik)# kelas 4\n",
    "hasil10b_k5 = pake_kk.pake_k5(list_10b,h_predik)# kelas 5\n",
    "hasil10b_k6 = pake_kk.pake_k6(list_10b,h_predik)# kelas 6\n",
    "hasil10b_k7 = pake_kk.pake_k7(list_10b,h_predik)# kelas 7\n",
    "hasil10b_k8 = pake_kk.pake_k8(list_10b,h_predik)# kelas 8\n",
    "hasil10b_k9 = pake_kk.pake_k9(list_10b,h_predik)# kelas 9\n",
    "hasil10b_k10 = pake_kk.pake_k10(list_10b,h_predik)# kelas 10\n",
    "hasil10b_k11 = pake_kk.pake_k11(list_10b,h_predik)# kelas 11\n",
    "hasil10b_k12 = pake_kk.pake_k12(list_10b,h_predik)# kelas 12\n",
    "hasil10b_k13 = pake_kk.pake_k13(list_10b,h_predik)# kelas 13\n",
    "hasil10b_k14 = pake_kk.pake_k14(list_10b,h_predik)# kelas 14\n",
    "hasil10b_k15 = pake_kk.pake_k15(list_10b,h_predik)# kelas 15\n",
    "hasil10b_k16 = pake_kk.pake_k16(list_10b,h_predik)# kelas 16\n",
    "hasil10b_k17 = pake_kk.pake_k17(list_10b,h_predik)# kelas 17\n",
    "hasil10b_k18 = pake_kk.pake_k18(list_10b,h_predik)# kelas 18\n",
    "hasil10b_k19 = pake_kk.pake_k19(list_10b,h_predik)# kelas 19\n",
    "hasil10b_k20 = pake_kk.pake_k20(list_10b,h_predik)# kelas 20\n",
    "hasil10b_k21 = pake_kk.pake_k21(list_10b,h_predik)# kelas 21"
   ]
  },
  {
   "cell_type": "code",
   "execution_count": 7,
   "metadata": {},
   "outputs": [],
   "source": [
    "# (Ini bagian yang diambil dari program main2)\n",
    "#mengambil voting peringkat 5, dan 10 besar\n",
    "m2peringkat_5besar, m2peringkat_10besar = vote2.peringkat_10dan5(hasil10b_k1,hasil10b_k2,hasil10b_k3,hasil10b_k4,\n",
    "                                                            hasil10b_k5,hasil10b_k6,hasil10b_k7,hasil10b_k8,\n",
    "                                                            hasil10b_k9,hasil10b_k10,hasil10b_k11,\n",
    "                                                            hasil10b_k12,hasil10b_k13,hasil10b_k14,\n",
    "                                                            hasil10b_k15,hasil10b_k16,hasil10b_k17,\n",
    "                                                            hasil10b_k18,hasil10b_k19,hasil10b_k20\n",
    "                                                            ,hasil10b_k21)"
   ]
  },
  {
   "cell_type": "markdown",
   "metadata": {},
   "source": [
    "# 6. menyatukan data hasil dari bagian main dan main2. "
   ]
  },
  {
   "cell_type": "code",
   "execution_count": 8,
   "metadata": {},
   "outputs": [
    {
     "name": "stdout",
     "output_type": "stream",
     "text": [
      "     Saham-saham yang akan naik 3 hari kedepan:\n",
      "1. Saham IPTV\n",
      "   - Harga terakhir saham IPTV = Rp 122\n",
      "   - Harga saham IPTV  di 1% = Rp 123.22\n",
      "   - Harga batas saham IPTV di 2% = Rp 124.44\n",
      "   - Harga 1 lot saham IPTV di 2% = Rp 12444\n",
      "Beli disekitar harga 122 sampai 124.44.  **jika bisa lebih kurang dari itu, maka akan lebih bagus\n",
      "\n",
      "2. Saham ISAT\n",
      "   - Harga terakhir saham ISAT = Rp 6625.0\n",
      "   - Harga saham ISAT  di 1% = Rp 6691.25\n",
      "   - Harga batas saham ISAT di 2% = Rp 6757.5\n",
      "   - Harga 1 lot saham ISAT di 2% = Rp 675750\n",
      "Beli disekitar harga 6625.0 sampai 6757.5.  **jika bisa lebih kurang dari itu, maka akan lebih bagus\n",
      "\n",
      "!!!!! JANGAN SAMPAI KESINI !!!!!\n",
      "~ Harga Maksimal pembelian saham IPTV di 5% = Rp 125.66\n",
      "~ Harga Maksimal pembelian saham ISAT di 5% = Rp 6823.75\n"
     ]
    }
   ],
   "source": [
    "# menyatukan dataframe hasil dari bagian main dan main2. \n",
    "from fungsi import srvote,sr_harga, sr_beli_saham \n",
    "peringkat_2besar = srvote.peringkat2_besar(m1peringkat_5besar,m2peringkat_5besar)\n",
    "peringkat_5besar = srvote.peringkat5_besar(m1peringkat_5besar,m2peringkat_5besar)\n",
    "peringkat_10besar = srvote.peringkat10_besar(m1peringkat_10besar,m2peringkat_10besar)\n",
    "\n",
    "# dataframe saham pembelian dan saham penjualan\n",
    "pembelian = sr_harga.pembelian(peringkat_2besar)\n",
    "penjualan = sr_harga.penjualan(peringkat_2besar)\n",
    "sr_beli_saham.beli_saham(pembelian, h_predik) # fungsi yang menampikan hasil saham"
   ]
  },
  {
   "cell_type": "code",
   "execution_count": 9,
   "metadata": {},
   "outputs": [
    {
     "data": {
      "text/html": [
       "<div>\n",
       "<style scoped>\n",
       "    .dataframe tbody tr th:only-of-type {\n",
       "        vertical-align: middle;\n",
       "    }\n",
       "\n",
       "    .dataframe tbody tr th {\n",
       "        vertical-align: top;\n",
       "    }\n",
       "\n",
       "    .dataframe thead th {\n",
       "        text-align: right;\n",
       "    }\n",
       "</style>\n",
       "<table border=\"1\" class=\"dataframe\">\n",
       "  <thead>\n",
       "    <tr style=\"text-align: right;\">\n",
       "      <th></th>\n",
       "      <th>Saham</th>\n",
       "      <th>Last</th>\n",
       "      <th>Hrg -2%</th>\n",
       "      <th>Hrg -1%</th>\n",
       "      <th>Hrg 1%</th>\n",
       "      <th>Hrg 2%</th>\n",
       "      <th>Hrg 1 lot2%</th>\n",
       "      <th>Hrg 3%</th>\n",
       "    </tr>\n",
       "  </thead>\n",
       "  <tbody>\n",
       "    <tr>\n",
       "      <th>0</th>\n",
       "      <td>IPTV</td>\n",
       "      <td>122</td>\n",
       "      <td>119.56</td>\n",
       "      <td>120.78</td>\n",
       "      <td>123.22</td>\n",
       "      <td>124.44</td>\n",
       "      <td>12444</td>\n",
       "      <td>125.66</td>\n",
       "    </tr>\n",
       "    <tr>\n",
       "      <th>1</th>\n",
       "      <td>ISAT</td>\n",
       "      <td>6625.0</td>\n",
       "      <td>6492.5</td>\n",
       "      <td>6558.75</td>\n",
       "      <td>6691.25</td>\n",
       "      <td>6757.5</td>\n",
       "      <td>675750</td>\n",
       "      <td>6823.75</td>\n",
       "    </tr>\n",
       "  </tbody>\n",
       "</table>\n",
       "</div>"
      ],
      "text/plain": [
       "  Saham    Last Hrg -2%  Hrg -1%   Hrg 1%  Hrg 2% Hrg 1 lot2%   Hrg 3%\n",
       "0  IPTV     122  119.56   120.78   123.22  124.44       12444   125.66\n",
       "1  ISAT  6625.0  6492.5  6558.75  6691.25  6757.5      675750  6823.75"
      ]
     },
     "execution_count": 9,
     "metadata": {},
     "output_type": "execute_result"
    }
   ],
   "source": [
    "pembelian"
   ]
  },
  {
   "cell_type": "code",
   "execution_count": 10,
   "metadata": {},
   "outputs": [
    {
     "data": {
      "text/html": [
       "<div>\n",
       "<style scoped>\n",
       "    .dataframe tbody tr th:only-of-type {\n",
       "        vertical-align: middle;\n",
       "    }\n",
       "\n",
       "    .dataframe tbody tr th {\n",
       "        vertical-align: top;\n",
       "    }\n",
       "\n",
       "    .dataframe thead th {\n",
       "        text-align: right;\n",
       "    }\n",
       "</style>\n",
       "<table border=\"1\" class=\"dataframe\">\n",
       "  <thead>\n",
       "    <tr style=\"text-align: right;\">\n",
       "      <th></th>\n",
       "      <th>Saham</th>\n",
       "      <th>Harga 5%</th>\n",
       "      <th>Harga 10%</th>\n",
       "      <th>Harga 15%</th>\n",
       "      <th>Harga 20%</th>\n",
       "      <th>Harga 25%</th>\n",
       "      <th>Harga 30%</th>\n",
       "    </tr>\n",
       "  </thead>\n",
       "  <tbody>\n",
       "    <tr>\n",
       "      <th>0</th>\n",
       "      <td>IPTV</td>\n",
       "      <td>128.1</td>\n",
       "      <td>134.2</td>\n",
       "      <td>140.3</td>\n",
       "      <td>146.4</td>\n",
       "      <td>152.5</td>\n",
       "      <td>158.6</td>\n",
       "    </tr>\n",
       "    <tr>\n",
       "      <th>1</th>\n",
       "      <td>ISAT</td>\n",
       "      <td>6956.25</td>\n",
       "      <td>7287.5</td>\n",
       "      <td>7618.75</td>\n",
       "      <td>7950.0</td>\n",
       "      <td>8281.25</td>\n",
       "      <td>8612.5</td>\n",
       "    </tr>\n",
       "  </tbody>\n",
       "</table>\n",
       "</div>"
      ],
      "text/plain": [
       "  Saham Harga 5% Harga 10% Harga 15% Harga 20% Harga 25% Harga 30%\n",
       "0  IPTV    128.1     134.2     140.3     146.4     152.5     158.6\n",
       "1  ISAT  6956.25    7287.5   7618.75    7950.0   8281.25    8612.5"
      ]
     },
     "execution_count": 10,
     "metadata": {},
     "output_type": "execute_result"
    }
   ],
   "source": [
    "penjualan"
   ]
  },
  {
   "cell_type": "code",
   "execution_count": 11,
   "metadata": {},
   "outputs": [
    {
     "data": {
      "text/html": [
       "<div>\n",
       "<style scoped>\n",
       "    .dataframe tbody tr th:only-of-type {\n",
       "        vertical-align: middle;\n",
       "    }\n",
       "\n",
       "    .dataframe tbody tr th {\n",
       "        vertical-align: top;\n",
       "    }\n",
       "\n",
       "    .dataframe thead th {\n",
       "        text-align: right;\n",
       "    }\n",
       "</style>\n",
       "<table border=\"1\" class=\"dataframe\">\n",
       "  <thead>\n",
       "    <tr style=\"text-align: right;\">\n",
       "      <th></th>\n",
       "      <th>Saham</th>\n",
       "      <th>voting</th>\n",
       "      <th>rata-rata nilai persentase(%)</th>\n",
       "    </tr>\n",
       "  </thead>\n",
       "  <tbody>\n",
       "    <tr>\n",
       "      <th>0</th>\n",
       "      <td>IPTV</td>\n",
       "      <td>2</td>\n",
       "      <td>41.824843</td>\n",
       "    </tr>\n",
       "    <tr>\n",
       "      <th>1</th>\n",
       "      <td>ISAT</td>\n",
       "      <td>2</td>\n",
       "      <td>18.54325</td>\n",
       "    </tr>\n",
       "  </tbody>\n",
       "</table>\n",
       "</div>"
      ],
      "text/plain": [
       "  Saham voting rata-rata nilai persentase(%)\n",
       "0  IPTV      2                     41.824843\n",
       "1  ISAT      2                      18.54325"
      ]
     },
     "execution_count": 11,
     "metadata": {},
     "output_type": "execute_result"
    }
   ],
   "source": [
    "peringkat_2besar"
   ]
  },
  {
   "cell_type": "code",
   "execution_count": 12,
   "metadata": {},
   "outputs": [
    {
     "data": {
      "text/html": [
       "<div>\n",
       "<style scoped>\n",
       "    .dataframe tbody tr th:only-of-type {\n",
       "        vertical-align: middle;\n",
       "    }\n",
       "\n",
       "    .dataframe tbody tr th {\n",
       "        vertical-align: top;\n",
       "    }\n",
       "\n",
       "    .dataframe thead th {\n",
       "        text-align: right;\n",
       "    }\n",
       "</style>\n",
       "<table border=\"1\" class=\"dataframe\">\n",
       "  <thead>\n",
       "    <tr style=\"text-align: right;\">\n",
       "      <th></th>\n",
       "      <th>Saham</th>\n",
       "      <th>voting</th>\n",
       "      <th>rata-rata nilai persentase(%)</th>\n",
       "    </tr>\n",
       "  </thead>\n",
       "  <tbody>\n",
       "    <tr>\n",
       "      <th>0</th>\n",
       "      <td>IPTV</td>\n",
       "      <td>2</td>\n",
       "      <td>41.824843</td>\n",
       "    </tr>\n",
       "    <tr>\n",
       "      <th>1</th>\n",
       "      <td>ISAT</td>\n",
       "      <td>2</td>\n",
       "      <td>18.54325</td>\n",
       "    </tr>\n",
       "    <tr>\n",
       "      <th>2</th>\n",
       "      <td>BANK</td>\n",
       "      <td>2</td>\n",
       "      <td>16.810167</td>\n",
       "    </tr>\n",
       "    <tr>\n",
       "      <th>3</th>\n",
       "      <td>BTPS</td>\n",
       "      <td>2</td>\n",
       "      <td>7.186712</td>\n",
       "    </tr>\n",
       "  </tbody>\n",
       "</table>\n",
       "</div>"
      ],
      "text/plain": [
       "  Saham voting rata-rata nilai persentase(%)\n",
       "0  IPTV      2                     41.824843\n",
       "1  ISAT      2                      18.54325\n",
       "2  BANK      2                     16.810167\n",
       "3  BTPS      2                      7.186712"
      ]
     },
     "execution_count": 12,
     "metadata": {},
     "output_type": "execute_result"
    }
   ],
   "source": [
    "peringkat_5besar"
   ]
  },
  {
   "cell_type": "code",
   "execution_count": 13,
   "metadata": {},
   "outputs": [
    {
     "data": {
      "text/html": [
       "<div>\n",
       "<style scoped>\n",
       "    .dataframe tbody tr th:only-of-type {\n",
       "        vertical-align: middle;\n",
       "    }\n",
       "\n",
       "    .dataframe tbody tr th {\n",
       "        vertical-align: top;\n",
       "    }\n",
       "\n",
       "    .dataframe thead th {\n",
       "        text-align: right;\n",
       "    }\n",
       "</style>\n",
       "<table border=\"1\" class=\"dataframe\">\n",
       "  <thead>\n",
       "    <tr style=\"text-align: right;\">\n",
       "      <th></th>\n",
       "      <th>Saham</th>\n",
       "      <th>voting</th>\n",
       "      <th>rata-rata nilai persentase(%)</th>\n",
       "    </tr>\n",
       "  </thead>\n",
       "  <tbody>\n",
       "    <tr>\n",
       "      <th>0</th>\n",
       "      <td>IPTV</td>\n",
       "      <td>2</td>\n",
       "      <td>41.824843</td>\n",
       "    </tr>\n",
       "    <tr>\n",
       "      <th>1</th>\n",
       "      <td>ISAT</td>\n",
       "      <td>2</td>\n",
       "      <td>18.54325</td>\n",
       "    </tr>\n",
       "    <tr>\n",
       "      <th>2</th>\n",
       "      <td>BANK</td>\n",
       "      <td>2</td>\n",
       "      <td>16.810167</td>\n",
       "    </tr>\n",
       "    <tr>\n",
       "      <th>3</th>\n",
       "      <td>ADHI</td>\n",
       "      <td>2</td>\n",
       "      <td>12.27608</td>\n",
       "    </tr>\n",
       "    <tr>\n",
       "      <th>4</th>\n",
       "      <td>BMTR</td>\n",
       "      <td>2</td>\n",
       "      <td>10.942432</td>\n",
       "    </tr>\n",
       "    <tr>\n",
       "      <th>5</th>\n",
       "      <td>BTPS</td>\n",
       "      <td>2</td>\n",
       "      <td>7.186712</td>\n",
       "    </tr>\n",
       "  </tbody>\n",
       "</table>\n",
       "</div>"
      ],
      "text/plain": [
       "  Saham voting rata-rata nilai persentase(%)\n",
       "0  IPTV      2                     41.824843\n",
       "1  ISAT      2                      18.54325\n",
       "2  BANK      2                     16.810167\n",
       "3  ADHI      2                      12.27608\n",
       "4  BMTR      2                     10.942432\n",
       "5  BTPS      2                      7.186712"
      ]
     },
     "execution_count": 13,
     "metadata": {},
     "output_type": "execute_result"
    }
   ],
   "source": [
    "peringkat_10besar"
   ]
  },
  {
   "cell_type": "markdown",
   "metadata": {},
   "source": [
    "# 7. mengirimkan hasilnya ke email\n",
    "\n",
    "jika ada error seperti:\n",
    "    SMTPAuthenticationError: (535, b'5.7.8 Username and Password not accepted. Learn \n",
    "    more at\\n5.7.8  https://support.google.com/mail/?p=BadCredentials \n",
    "    o62-20020a17090a0a4400b001e2b19e6cfesm1410176pjo.12 - gsmtp')\n",
    "\n",
    "Singkatnya, google tidak mengizinkan Anda untuk masuk melalui smtplib karena telah\n",
    "menandai jenis masuk ini sebagai \"kurang aman\".\n",
    "solusinya cari di internet"
   ]
  },
  {
   "cell_type": "code",
   "execution_count": 14,
   "metadata": {},
   "outputs": [
    {
     "ename": "SMTPAuthenticationError",
     "evalue": "(535, b'5.7.8 Username and Password not accepted. Learn more at\\n5.7.8  https://support.google.com/mail/?p=BadCredentials k132-20020a633d8a000000b003fd9e4911f9sm9903720pga.31 - gsmtp')",
     "output_type": "error",
     "traceback": [
      "\u001b[1;31m---------------------------------------------------------------------------\u001b[0m",
      "\u001b[1;31mSMTPAuthenticationError\u001b[0m                   Traceback (most recent call last)",
      "\u001b[1;32me:\\kerja\\saham\\Rizky_Cuan\\superior.ipynb Cell 23'\u001b[0m in \u001b[0;36m<cell line: 2>\u001b[1;34m()\u001b[0m\n\u001b[0;32m      <a href='vscode-notebook-cell:/e%3A/kerja/saham/Rizky_Cuan/superior.ipynb#ch0000022?line=0'>1</a>\u001b[0m \u001b[39mfrom\u001b[39;00m \u001b[39mfungsi\u001b[39;00m \u001b[39mimport\u001b[39;00m sr_email \u001b[39mas\u001b[39;00m email\n\u001b[1;32m----> <a href='vscode-notebook-cell:/e%3A/kerja/saham/Rizky_Cuan/superior.ipynb#ch0000022?line=1'>2</a>\u001b[0m email\u001b[39m.\u001b[39;49mkirim_email(login_email,login_pass_txt,email_pengirim,list_penerima_email,\n\u001b[0;32m      <a href='vscode-notebook-cell:/e%3A/kerja/saham/Rizky_Cuan/superior.ipynb#ch0000022?line=2'>3</a>\u001b[0m                   pembelian,penjualan,peringkat_2besar,peringkat_5besar,h_predik,akhir_ipred)\n",
      "File \u001b[1;32me:\\kerja\\saham\\Rizky_Cuan\\fungsi\\sr_email.py:178\u001b[0m, in \u001b[0;36mkirim_email\u001b[1;34m(login_email, login_pass_txt, email_pengirim, list_email_penerima, df_pembelian, df_penjualan, df_voting1, df_voting2, h_predik, tgl_akhir_data)\u001b[0m\n\u001b[0;32m    176\u001b[0m server\u001b[39m.\u001b[39mehlo() \u001b[39m# fungsi untuk memulai seluruh proses\u001b[39;00m\n\u001b[0;32m    177\u001b[0m server\u001b[39m.\u001b[39mstarttls() \u001b[39m# mulai tls\u001b[39;00m\n\u001b[1;32m--> 178\u001b[0m server\u001b[39m.\u001b[39;49mlogin(login_email, password) \u001b[39m# masuk ke akun\u001b[39;00m\n\u001b[0;32m    179\u001b[0m server\u001b[39m.\u001b[39msendmail(email_pengirim, list_email_penerima, message\u001b[39m.\u001b[39mas_string()) \u001b[39m# kirim emailnya\u001b[39;00m\n\u001b[0;32m    180\u001b[0m server\u001b[39m.\u001b[39mquit()\n",
      "File \u001b[1;32m~\\AppData\\Local\\Programs\\Python\\Python310\\lib\\smtplib.py:750\u001b[0m, in \u001b[0;36mSMTP.login\u001b[1;34m(self, user, password, initial_response_ok)\u001b[0m\n\u001b[0;32m    747\u001b[0m         last_exception \u001b[39m=\u001b[39m e\n\u001b[0;32m    749\u001b[0m \u001b[39m# We could not login successfully.  Return result of last attempt.\u001b[39;00m\n\u001b[1;32m--> 750\u001b[0m \u001b[39mraise\u001b[39;00m last_exception\n",
      "File \u001b[1;32m~\\AppData\\Local\\Programs\\Python\\Python310\\lib\\smtplib.py:739\u001b[0m, in \u001b[0;36mSMTP.login\u001b[1;34m(self, user, password, initial_response_ok)\u001b[0m\n\u001b[0;32m    737\u001b[0m method_name \u001b[39m=\u001b[39m \u001b[39m'\u001b[39m\u001b[39mauth_\u001b[39m\u001b[39m'\u001b[39m \u001b[39m+\u001b[39m authmethod\u001b[39m.\u001b[39mlower()\u001b[39m.\u001b[39mreplace(\u001b[39m'\u001b[39m\u001b[39m-\u001b[39m\u001b[39m'\u001b[39m, \u001b[39m'\u001b[39m\u001b[39m_\u001b[39m\u001b[39m'\u001b[39m)\n\u001b[0;32m    738\u001b[0m \u001b[39mtry\u001b[39;00m:\n\u001b[1;32m--> 739\u001b[0m     (code, resp) \u001b[39m=\u001b[39m \u001b[39mself\u001b[39;49m\u001b[39m.\u001b[39;49mauth(\n\u001b[0;32m    740\u001b[0m         authmethod, \u001b[39mgetattr\u001b[39;49m(\u001b[39mself\u001b[39;49m, method_name),\n\u001b[0;32m    741\u001b[0m         initial_response_ok\u001b[39m=\u001b[39;49minitial_response_ok)\n\u001b[0;32m    742\u001b[0m     \u001b[39m# 235 == 'Authentication successful'\u001b[39;00m\n\u001b[0;32m    743\u001b[0m     \u001b[39m# 503 == 'Error: already authenticated'\u001b[39;00m\n\u001b[0;32m    744\u001b[0m     \u001b[39mif\u001b[39;00m code \u001b[39min\u001b[39;00m (\u001b[39m235\u001b[39m, \u001b[39m503\u001b[39m):\n",
      "File \u001b[1;32m~\\AppData\\Local\\Programs\\Python\\Python310\\lib\\smtplib.py:662\u001b[0m, in \u001b[0;36mSMTP.auth\u001b[1;34m(self, mechanism, authobject, initial_response_ok)\u001b[0m\n\u001b[0;32m    660\u001b[0m \u001b[39mif\u001b[39;00m code \u001b[39min\u001b[39;00m (\u001b[39m235\u001b[39m, \u001b[39m503\u001b[39m):\n\u001b[0;32m    661\u001b[0m     \u001b[39mreturn\u001b[39;00m (code, resp)\n\u001b[1;32m--> 662\u001b[0m \u001b[39mraise\u001b[39;00m SMTPAuthenticationError(code, resp)\n",
      "\u001b[1;31mSMTPAuthenticationError\u001b[0m: (535, b'5.7.8 Username and Password not accepted. Learn more at\\n5.7.8  https://support.google.com/mail/?p=BadCredentials k132-20020a633d8a000000b003fd9e4911f9sm9903720pga.31 - gsmtp')"
     ]
    }
   ],
   "source": [
    "from fungsi import sr_email as email\n",
    "email.kirim_email(login_email,login_pass_txt,email_pengirim,list_penerima_email,\n",
    "                  pembelian,penjualan,peringkat_2besar,peringkat_5besar,h_predik,akhir_ipred)"
   ]
  },
  {
   "cell_type": "code",
   "execution_count": null,
   "metadata": {},
   "outputs": [],
   "source": [
    "## menyimpan hasil akhir. ini dataframe file csv\n",
    "tgl_aip = akhir_ipred.replace('-','') # misal '22-05-2045' menjadi '22052045'\n",
    "peringkat_2besar.to_csv(f'hasil_Rizky/{tgl_aip}_2besar(SR).csv') # simpan"
   ]
  }
 ],
 "metadata": {
  "interpreter": {
   "hash": "38e6395e1fc81e39827d483d07c6e7d9a441796add4e0afdb11ab6c4b84f7a13"
  },
  "kernelspec": {
   "display_name": "Python 3.10.0 ('Env': venv)",
   "language": "python",
   "name": "python3"
  },
  "language_info": {
   "codemirror_mode": {
    "name": "ipython",
    "version": 3
   },
   "file_extension": ".py",
   "mimetype": "text/x-python",
   "name": "python",
   "nbconvert_exporter": "python",
   "pygments_lexer": "ipython3",
   "version": "3.10.0"
  },
  "orig_nbformat": 4
 },
 "nbformat": 4,
 "nbformat_minor": 2
}
